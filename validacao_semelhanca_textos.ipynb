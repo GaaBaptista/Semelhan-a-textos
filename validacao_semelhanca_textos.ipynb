{
 "cells": [
  {
   "cell_type": "code",
   "execution_count": null,
   "id": "e987a47f",
   "metadata": {},
   "outputs": [],
   "source": [
    "from sklearn.feature_extraction.text import TfidfVectorizer\n",
    "from sklearn.metrics.pairwise import cosine_similarity\n",
    "from sentence_transformers import SentenceTransformer, util\n",
    "import pandas as pd\n",
    "import requests\n",
    "import json\n",
    "from openai import OpenAI\n",
    "import os\n",
    "import dotenv\n",
    "import openpyxl"
   ]
  },
  {
   "cell_type": "markdown",
   "id": "145ad743",
   "metadata": {},
   "source": [
    "## Validando modelos\n",
    "Um pequeno racional para vermos o comportamento dos modelos:\n",
    "\n",
    "    1- Vetorização e similaridade a partir do cosseno, varia de -1 a 1, \n",
    "        - valores próximos de 0: diferentes, \n",
    "        - perto de 1: similares \n",
    "    é um modelo que não considera relações semânticas mais complexas, \n",
    "    valida a presença ou ausência das palavras a partir do texto vetorizado\n",
    "    \n",
    "    2 - Embeddings de frases (BERT): utiliza um modelo pré-treinado para gerar os embeddings\n",
    "        de frases que capturam a semântica dos textos, logo considera contexto semântico,\n",
    "        - valores próximos de 1: Textos são semanticamente idênticos.\n",
    "        - 0: Textos não têm similaridade semântica."
   ]
  },
  {
   "cell_type": "code",
   "execution_count": null,
   "id": "8d775fd5",
   "metadata": {},
   "outputs": [],
   "source": [
    "# Textos a serem comparados\n",
    "texto1 = \"Este é o primeiro texto.\"\n",
    "texto2 = \"Este é o texto primeiro.\"\n",
    "\n",
    "texto3 = \"texto sem nada igual ao outro\"\n",
    "texto4 = \"validando vetorização\"\n",
    "\n",
    "# Vetorização dos textos\n",
    "vectorizer = TfidfVectorizer()\n",
    "tfidf_matrix = vectorizer.fit_transform([texto1, texto2])\n",
    "\n",
    "# Cálculo da similaridade cosseno\n",
    "similaridade = cosine_similarity(tfidf_matrix[0:1], tfidf_matrix[1:2])\n",
    "\n",
    "print(f\"A similaridade entre os textos parecidos é: {similaridade[0][0]:.2f}\")\n",
    "\n",
    "vectorizer = TfidfVectorizer()\n",
    "tfidf_matrix = vectorizer.fit_transform([texto3, texto4])\n",
    "similaridade = cosine_similarity(tfidf_matrix[0:1], tfidf_matrix[1:2])\n",
    "\n",
    "print(f\"A similaridade entre os textos diferentes é: {similaridade[0][0]:.2f}\")"
   ]
  },
  {
   "cell_type": "code",
   "execution_count": null,
   "id": "c9c9d41d",
   "metadata": {},
   "outputs": [],
   "source": [
    "# Carregar o modelo de embeddings de frases\n",
    "model = SentenceTransformer('paraphrase-MiniLM-L6-v2')\n",
    "\n",
    "# Textos a serem comparados\n",
    "texto1 = \"Este é o primeiro texto.\"\n",
    "texto2 = \"Este é o texto primeiro.\"\n",
    "\n",
    "texto3 = \"texto sem nada igual ao outro\"\n",
    "texto4 = \"validando vetorização\"\n",
    "\n",
    "# Gerar embeddings para os textos\n",
    "embedding1 = model.encode(texto1, convert_to_tensor=True)\n",
    "embedding2 = model.encode(texto2, convert_to_tensor=True)\n",
    "\n",
    "# Calcular a similaridade cosseno entre os embeddings\n",
    "similaridade = util.pytorch_cos_sim(embedding1, embedding2)\n",
    "\n",
    "print(f\"A similaridade entre os textos é: {similaridade.item():.2f}\")\n",
    "\n",
    "embedding3 = model.encode(texto3, convert_to_tensor=True)\n",
    "embedding4 = model.encode(texto4, convert_to_tensor=True)\n",
    "\n",
    "# Calcular a similaridade cosseno entre os embeddings\n",
    "similaridade = util.pytorch_cos_sim(embedding3, embedding4)\n",
    "\n",
    "print(f\"A similaridade entre os textos é: {similaridade.item():.2f}\")"
   ]
  },
  {
   "cell_type": "code",
   "execution_count": 4,
   "id": "b4106a20",
   "metadata": {},
   "outputs": [],
   "source": [
    "# Função para calcular a similaridade cosseno com TF-IDF\n",
    "def calcular_similaridade_tfidf(text1, text2):\n",
    "    vectorizer = TfidfVectorizer()\n",
    "    tfidf_matrix = vectorizer.fit_transform([text1, text2])\n",
    "    similaridade = cosine_similarity(tfidf_matrix[0:1], tfidf_matrix[1:2])\n",
    "    return similaridade[0][0]"
   ]
  },
  {
   "cell_type": "code",
   "execution_count": 5,
   "id": "c73f1303",
   "metadata": {},
   "outputs": [],
   "source": [
    "# Função para calcular a similaridade com BERT\n",
    "def calcular_similaridade_bert(text1, text2):\n",
    "    embedding1 = model.encode(text1, convert_to_tensor=True)\n",
    "    embedding2 = model.encode(text2, convert_to_tensor=True)\n",
    "    similaridade = util.pytorch_cos_sim(embedding1, embedding2)\n",
    "    return similaridade.item()"
   ]
  },
  {
   "cell_type": "code",
   "execution_count": null,
   "id": "70e99dd1",
   "metadata": {},
   "outputs": [],
   "source": [
    "df = pd.read_csv('resultado.csv', sep=\";\")\n",
    "df.head()"
   ]
  },
  {
   "cell_type": "code",
   "execution_count": 7,
   "id": "4ec845c7",
   "metadata": {},
   "outputs": [],
   "source": [
    "# Listas para armazenar as similaridades\n",
    "similaridades_tfidf = []\n",
    "similaridades_bert = []\n",
    "\n",
    "# Iterar sobre as linhas do DataFrame\n",
    "for index, row in df.iterrows():\n",
    "    text1 = row['resposta_DF']\n",
    "    text2 = row['resposta_genAi']\n",
    "    \n",
    "    # Calcular similaridades\n",
    "    sim_tfidf = calcular_similaridade_tfidf(text1, text2)\n",
    "    sim_bert = calcular_similaridade_bert(text1, text2)\n",
    "    \n",
    "    # Armazenar os resultados\n",
    "    similaridades_tfidf.append(sim_tfidf)\n",
    "    similaridades_bert.append(sim_bert)\n",
    "    \n",
    "# Adicionar as novas colunas ao DataFrame\n",
    "df['similaridade_tfidf'] = similaridades_tfidf\n",
    "df['similaridade_bert'] = similaridades_bert"
   ]
  },
  {
   "cell_type": "code",
   "execution_count": 9,
   "id": "98045ff7",
   "metadata": {},
   "outputs": [],
   "source": [
    "def classificar_similaridade(row):\n",
    "    conf = row['confidence_Bot']\n",
    "    sim_tfidf = row['similaridade_tfidf']\n",
    "    sim_bert = row['similaridade_bert']\n",
    "    \n",
    "    if (conf >= 0.7): # Bot considerou assertivo\n",
    "        if (sim_tfidf >= 0.7 and sim_bert >= 0.7):\n",
    "            return \"Bot assertivo e Conteúdo semelhante - 2 métricas\"\n",
    "        elif ((sim_tfidf >= 0.7 and sim_bert < 0.7) or sim_bert >= 0.7 and sim_tfidf < 0.7):\n",
    "            return \"Bot assertivo e Conteúdo semelhante - 1 métrica\"\n",
    "        elif (0.5 < sim_tfidf <= 0.7) or (0.5 < sim_bert <= 0.7):\n",
    "            return \"Bot assertivo, sugiro Validação humana para detectar assertividade\"\n",
    "        else:\n",
    "            return \"Bot assertivo, mas Nenhuma das métricas encontrou semelhança maior que 0.5\"\n",
    "    else: # Bot considerou não assertivo\n",
    "        if (sim_tfidf >= 0.7 and sim_bert >= 0.7):\n",
    "            return \"Bot n-assertivo e Conteúdo semelhante - 2 métricas\"\n",
    "        elif ((sim_tfidf >= 0.7 and sim_bert < 0.7) or sim_bert >= 0.7 and sim_tfidf < 0.7):\n",
    "            return \"Bot n-assertivo e Conteúdo semelhante - 1 métrica\"\n",
    "        elif (0.5 < sim_tfidf <= 0.7) or (0.5 < sim_bert <= 0.7):\n",
    "            return \"Bot n-assertivo, sugiro Validação humana para detectar assertividade\"\n",
    "        else:\n",
    "            return \"Bot n-assertivo e Nenhuma das métricas encontrou semelhança maior que 0.5\""
   ]
  },
  {
   "cell_type": "code",
   "execution_count": 10,
   "id": "f2689e8e",
   "metadata": {},
   "outputs": [],
   "source": [
    "# Aplicar a função ao DataFrame para criar a nova coluna\n",
    "df['classificacao'] = df.apply(classificar_similaridade, axis=1)"
   ]
  },
  {
   "cell_type": "code",
   "execution_count": 15,
   "id": "2c23d432",
   "metadata": {},
   "outputs": [],
   "source": [
    "# Função para definir a nova coluna\n",
    "def classify(row):\n",
    "    if row['classificacao'] in [\n",
    "        \"Bot n-assertivo e Conteúdo semelhante - 2 métricas\",\n",
    "        \"Bot assertivo e Conteúdo semelhante - 2 métricas\",\n",
    "        \"Bot assertivo e Conteúdo semelhante - 1 métrica\",\n",
    "        \"Bot n-assertivo e Conteúdo semelhante - 1 métrica\"\n",
    "    ]:\n",
    "        return 1\n",
    "    elif row['classificacao'] in [\n",
    "        \"Bot assertivo, mas Nenhuma das métricas encontrou semelhança maior que 0.5\",\n",
    "        \"Bot n-assertivo e Nenhuma das métricas encontrou semelhança maior que 0.5\"\n",
    "    ]:\n",
    "        return 0\n",
    "    else:\n",
    "        return None  # Caso queira lidar com outros valores"
   ]
  },
  {
   "cell_type": "code",
   "execution_count": 16,
   "id": "e7b3cc56",
   "metadata": {},
   "outputs": [],
   "source": [
    "# Aplicar a função ao DataFrame\n",
    "df['assertividade_genAi'] = df.apply(classify, axis=1)"
   ]
  },
  {
   "cell_type": "code",
   "execution_count": null,
   "id": "6a4dbee0",
   "metadata": {},
   "outputs": [],
   "source": [
    "# Exibir o novo DataFrame\n",
    "df.head(10)"
   ]
  },
  {
   "cell_type": "code",
   "execution_count": null,
   "id": "331488f6",
   "metadata": {},
   "outputs": [],
   "source": [
    "# Salvar o DataFrame em um arquivo Excel\n",
    "df.to_excel('diferenca_genAi_Bot.xlsx', index=False, engine='openpyxl')\n",
    "print(\"DataFrame salvo como 'diferenca_genAi_Bot.xlsx'\")"
   ]
  }
 ],
 "metadata": {
  "kernelspec": {
   "display_name": ".venv",
   "language": "python",
   "name": "python3"
  },
  "language_info": {
   "codemirror_mode": {
    "name": "ipython",
    "version": 3
   },
   "file_extension": ".py",
   "mimetype": "text/x-python",
   "name": "python",
   "nbconvert_exporter": "python",
   "pygments_lexer": "ipython3",
   "version": "3.11.4"
  }
 },
 "nbformat": 4,
 "nbformat_minor": 5
}
